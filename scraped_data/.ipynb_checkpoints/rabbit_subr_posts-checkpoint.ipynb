{
 "metadata": {
  "name": "",
  "signature": "sha256:38074790ad8e2136a4b623a75c08e3b3f9d058925151838bd7c71f0366766212"
 },
 "nbformat": 3,
 "nbformat_minor": 0,
 "worksheets": [
  {
   "cells": [
    {
     "cell_type": "code",
     "collapsed": false,
     "input": [
      "# To process the data from the rabbits subreddit, includes post text\n",
      "# C. B. Salling 2015-03-13"
     ],
     "language": "python",
     "metadata": {},
     "outputs": [],
     "prompt_number": 1
    },
    {
     "cell_type": "code",
     "collapsed": false,
     "input": [
      "import csv\n",
      "import string"
     ],
     "language": "python",
     "metadata": {},
     "outputs": [],
     "prompt_number": 36
    },
    {
     "cell_type": "code",
     "collapsed": false,
     "input": [
      "rabbit_data = []\n",
      "with open('items.csv', 'rb') as csvfile:\n",
      "    reader = csv.reader(csvfile, delimiter = ',')\n",
      "    for row in reader:\n",
      "        rabbit_data.append(row)"
     ],
     "language": "python",
     "metadata": {},
     "outputs": [],
     "prompt_number": 37
    },
    {
     "cell_type": "code",
     "collapsed": false,
     "input": [
      "split_data = []\n",
      "for row in rabbit_data:\n",
      "    for elem in row:\n",
      "        for item in elem.split(' '):\n",
      "            split_data.append(item)"
     ],
     "language": "python",
     "metadata": {},
     "outputs": [],
     "prompt_number": 38
    },
    {
     "cell_type": "code",
     "collapsed": true,
     "input": [
      "no_punct = []\n",
      "for row in split_data:\n",
      "    no_punct.append(\"\".join(letter for letter in row if letter not in ['!','[',']','(',')',',','.',\n",
      "                                                                       '\"','?','-',':','~','/','+',\n",
      "                                                                       '=']))"
     ],
     "language": "python",
     "metadata": {},
     "outputs": [],
     "prompt_number": 50
    },
    {
     "cell_type": "code",
     "collapsed": false,
     "input": [
      "lower_case = []\n",
      "for row in no_punct:\n",
      "    lower_case.append(row.lower())"
     ],
     "language": "python",
     "metadata": {},
     "outputs": [],
     "prompt_number": 52
    },
    {
     "cell_type": "code",
     "collapsed": true,
     "input": [
      "no_spaces = []\n",
      "for row in lower_case:\n",
      "    if row != '' and row != 'post_title':\n",
      "        no_spaces.append(row)"
     ],
     "language": "python",
     "metadata": {},
     "outputs": [],
     "prompt_number": 58
    },
    {
     "cell_type": "code",
     "collapsed": false,
     "input": [
      "with open('cleaned_items.csv','wb') as csvfile:\n",
      "    rabbit_writer = csv.writer(csvfile, delimiter = ',')\n",
      "    for row in no_spaces:\n",
      "        rabbit_writer.writerow([row])"
     ],
     "language": "python",
     "metadata": {},
     "outputs": [],
     "prompt_number": 62
    }
   ],
   "metadata": {}
  }
 ]
}